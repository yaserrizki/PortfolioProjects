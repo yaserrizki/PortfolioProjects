{
 "cells": [
  {
   "cell_type": "markdown",
   "id": "425354b0-8135-498f-ae05-bffbb6cc7c5a",
   "metadata": {},
   "source": [
    "# BMI Calculator"
   ]
  },
  {
   "cell_type": "code",
   "execution_count": null,
   "id": "846a8b97-d1f1-4cd9-a7f6-b533b211c433",
   "metadata": {},
   "outputs": [],
   "source": [
    "# BMI = (weight in pounds x 703) / (height in inches **2)\n",
    "# BMI = (weight in kg) / (height in meter **2)"
   ]
  },
  {
   "cell_type": "code",
   "execution_count": 13,
   "id": "0c9561a4-5220-4c08-b760-6d1322bb91c6",
   "metadata": {},
   "outputs": [
    {
     "name": "stdin",
     "output_type": "stream",
     "text": [
      "Enter your name : yaser\n",
      "Enter your weight in pounds : 170\n",
      "Enter your height in inches : 69\n"
     ]
    },
    {
     "name": "stdout",
     "output_type": "stream",
     "text": [
      "Your BMI is 25.101869355177485\n",
      "yaser, you are Overweight\n"
     ]
    }
   ],
   "source": [
    "# Using Imperial Unit (Pounds and Inches)\n",
    "name = input(\"Enter your name :\")\n",
    "\n",
    "weight = input(\"Enter your weight in pounds :\") # the output will be stored as a string\n",
    "weight = int(weight)\n",
    "\n",
    "height = input(\"Enter your height in inches :\")\n",
    "height = int(height)\n",
    "\n",
    "BMI = (weight * 703) / (height **2)\n",
    "print('Your BMI is', BMI)\n",
    "\n",
    "if BMI > 0 :\n",
    "    if BMI < 18.5 :\n",
    "        print(name + ', you are Underweight')\n",
    "    elif BMI < 25 :\n",
    "        print(name + ', you are Normal Weight')\n",
    "    elif BMI < 30 :\n",
    "        print(name + ', you are Overweight')\n",
    "    elif BMI < 35 :\n",
    "        print(name + ', you are Obese')\n",
    "    elif BMI < 40 :\n",
    "        print(name + ', you are Severely Obese')\n",
    "    else :\n",
    "        print(name + ', you are Morbidly Obese')\n",
    "else :\n",
    "    print(\"Error : invalid weight\")\n"
   ]
  },
  {
   "cell_type": "code",
   "execution_count": 3,
   "id": "251de0e1-9983-4ea0-a3e5-a8dc346ea46e",
   "metadata": {},
   "outputs": [
    {
     "name": "stdout",
     "output_type": "stream",
     "text": [
      "170\n"
     ]
    }
   ],
   "source": [
    "print(weight)"
   ]
  },
  {
   "cell_type": "code",
   "execution_count": 14,
   "id": "60091f15-818c-4afb-ac6d-acece027790e",
   "metadata": {},
   "outputs": [
    {
     "name": "stdin",
     "output_type": "stream",
     "text": [
      "Enter your name : Yaser\n",
      "Enter your weight in kilogram : 75\n",
      "Enter your height in centimeter : 170\n"
     ]
    },
    {
     "name": "stdout",
     "output_type": "stream",
     "text": [
      "Your BMI is 25.95155709342561\n",
      "Yaser, you are Overweight\n"
     ]
    }
   ],
   "source": [
    "# Using International Unit (Kg and cm)\n",
    "name = input(\"Enter your name :\")\n",
    "\n",
    "weight = input(\"Enter your weight in kilogram :\") # the output will be stored as a string\n",
    "weight = int(weight)\n",
    "\n",
    "height = input(\"Enter your height in centimeter :\")\n",
    "height = int(height)\n",
    "\n",
    "BMI = (weight) / ((height / 100) **2)\n",
    "print('Your BMI is', BMI)\n",
    "\n",
    "if BMI > 0 :\n",
    "    if BMI < 18.5 :\n",
    "        print(name + ', you are Underweight')\n",
    "    elif BMI < 25 :\n",
    "        print(name + ', you are Normal Weight')\n",
    "    elif BMI < 30 :\n",
    "        print(name + ', you are Overweight')\n",
    "    elif BMI < 35 :\n",
    "        print(name + ', you are Obese')\n",
    "    elif BMI < 40 :\n",
    "        print(name + ', you are Severely Obese')\n",
    "    else :\n",
    "        print(name + ', you are Morbidly Obese')\n",
    "else :\n",
    "    print(\"Error : invalid weight\")\n"
   ]
  },
  {
   "cell_type": "code",
   "execution_count": null,
   "id": "102f7647-c8d7-42df-8035-9f29af9e879b",
   "metadata": {},
   "outputs": [],
   "source": []
  }
 ],
 "metadata": {
  "kernelspec": {
   "display_name": "Python 3 (ipykernel)",
   "language": "python",
   "name": "python3"
  },
  "language_info": {
   "codemirror_mode": {
    "name": "ipython",
    "version": 3
   },
   "file_extension": ".py",
   "mimetype": "text/x-python",
   "name": "python",
   "nbconvert_exporter": "python",
   "pygments_lexer": "ipython3",
   "version": "3.11.7"
  }
 },
 "nbformat": 4,
 "nbformat_minor": 5
}
