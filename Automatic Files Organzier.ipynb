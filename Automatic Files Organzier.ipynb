{
 "cells": [
  {
   "cell_type": "markdown",
   "id": "692f0007-6483-40ab-b0b6-2f10b17b3e62",
   "metadata": {},
   "source": [
    "# Automatic Files Organzier in File Explorer"
   ]
  },
  {
   "cell_type": "code",
   "execution_count": null,
   "id": "872c5b86-f5be-413e-a59f-eb8b21e5794f",
   "metadata": {},
   "outputs": [],
   "source": [
    "# What we are going to do is to group files into a folder based on its extension"
   ]
  },
  {
   "cell_type": "code",
   "execution_count": 3,
   "id": "dd24d9fc-8486-48fe-baa2-dcc13f76f832",
   "metadata": {},
   "outputs": [],
   "source": [
    "# Import OS and Shutil (Shell Utilites)\n",
    "import os, shutil # Shutil will allow us to do some high level operations on our files in file explorer"
   ]
  },
  {
   "cell_type": "code",
   "execution_count": 55,
   "id": "0445c826-f581-4c0c-9c65-bf9c038c004f",
   "metadata": {},
   "outputs": [],
   "source": [
    "# Prefix your string with 'r' to create a raw string literal. This tells Python not to interpret backslashes (\\) in any special way.\n",
    "path = r\"C:\\Users\\yaser\\Python Data Analytics\\Projects\\Automatic File Sorter\""
   ]
  },
  {
   "cell_type": "code",
   "execution_count": 56,
   "id": "19990855-980c-4ddd-a9a4-beac5cb61c8c",
   "metadata": {},
   "outputs": [
    {
     "name": "stdout",
     "output_type": "stream",
     "text": [
      "C:\\Users\\yaser\\Python Data Analytics\\Projects\\Automatic File Sorter\n"
     ]
    }
   ],
   "source": [
    "print(path)"
   ]
  },
  {
   "cell_type": "code",
   "execution_count": 63,
   "id": "248cb23a-41e6-4e36-9328-79ee499d0525",
   "metadata": {},
   "outputs": [
    {
     "data": {
      "text/plain": [
       "['Excel Files', 'Image Files', 'Note Files', 'PDF Files']"
      ]
     },
     "execution_count": 63,
     "metadata": {},
     "output_type": "execute_result"
    }
   ],
   "source": [
    "file_name = os.listdir(path) # it will show all files in path\n",
    "file_name"
   ]
  },
  {
   "cell_type": "code",
   "execution_count": 58,
   "id": "eac7db46-2713-4921-b1b7-07247edd02b7",
   "metadata": {},
   "outputs": [
    {
     "data": {
      "text/plain": [
       "6"
      ]
     },
     "execution_count": 58,
     "metadata": {},
     "output_type": "execute_result"
    }
   ],
   "source": [
    "len(os.listdir(path)) # used to count how many items in the path"
   ]
  },
  {
   "cell_type": "code",
   "execution_count": 59,
   "id": "561a8c17-5fc2-418a-bfce-32dfbd6dae26",
   "metadata": {},
   "outputs": [
    {
     "name": "stdout",
     "output_type": "stream",
     "text": [
      "C:\\Users\\yaser\\Python Data Analytics\\Projects\\Automatic File Sorter\\Image Files\n",
      "C:\\Users\\yaser\\Python Data Analytics\\Projects\\Automatic File Sorter\\Note Files\n",
      "C:\\Users\\yaser\\Python Data Analytics\\Projects\\Automatic File Sorter\\Excel Files\n",
      "C:\\Users\\yaser\\Python Data Analytics\\Projects\\Automatic File Sorter\\PDF Files\n"
     ]
    }
   ],
   "source": [
    "# the program needs to check first if there's already a folder and create it if isn't there\n",
    "folder_names = ['Image Files', 'Note Files', 'Excel Files', 'PDF Files']\n",
    "\n",
    "for index in range(len(folder_names)):\n",
    "    if not os.path.exists(path + '\\\\' + folder_names[index]): # return 'True' if the folder we want not exist yet\n",
    "        print(path + '\\\\' + folder_names[index])\n",
    "        os.makedirs(path + '\\\\' + folder_names[index])"
   ]
  },
  {
   "cell_type": "code",
   "execution_count": 60,
   "id": "f2b9cab1-a35a-4345-a837-859be567d0d2",
   "metadata": {},
   "outputs": [
    {
     "data": {
      "text/plain": [
       "['Image Files', 'Note Files', 'Excel Files', 'PDF Files']"
      ]
     },
     "execution_count": 60,
     "metadata": {},
     "output_type": "execute_result"
    }
   ],
   "source": [
    "folder_names"
   ]
  },
  {
   "cell_type": "code",
   "execution_count": 65,
   "id": "916f8305-cdf1-4653-af83-9a47bfcae86a",
   "metadata": {},
   "outputs": [
    {
     "name": "stdout",
     "output_type": "stream",
     "text": [
      "All files has been moved\n"
     ]
    }
   ],
   "source": [
    "# let's move files with extension to its folder with 'shutil' function\n",
    "for file in file_name:\n",
    "    if \".jpg\" in file and not os.path.exists(path + '\\\\' + folder_names[0] + '\\\\' + file):\n",
    "        shutil.move(path + '\\\\' + file, path + '\\\\' + folder_names[0])\n",
    "    elif \".txt\" in file and not os.path.exists(path + '\\\\' + folder_names[1] + '\\\\' + file):\n",
    "        shutil.move(path + '\\\\' + file, path + '\\\\' + folder_names[1])\n",
    "    elif \".xlsx\" in file and not os.path.exists(path + '\\\\' + folder_names[2] + '\\\\' + file):\n",
    "        shutil.move(path + '\\\\' + file, path + '\\\\' + folder_names[2])\n",
    "    elif \".pdf\" in file and not os.path.exists(path + '\\\\' + folder_names[3] + '\\\\' + file):\n",
    "        shutil.move(path + '\\\\' + file, path + '\\\\' + folder_names[3])\n",
    "    elif \".\" not in file:\n",
    "        break\n",
    "    else:\n",
    "        print(\"There are files with unknown extension\")\n",
    "print(\"All files has been moved\")"
   ]
  },
  {
   "cell_type": "code",
   "execution_count": null,
   "id": "d802f9f0-4ffc-4f1b-bb18-1e1e1dbe1bba",
   "metadata": {},
   "outputs": [],
   "source": []
  }
 ],
 "metadata": {
  "kernelspec": {
   "display_name": "Python 3 (ipykernel)",
   "language": "python",
   "name": "python3"
  },
  "language_info": {
   "codemirror_mode": {
    "name": "ipython",
    "version": 3
   },
   "file_extension": ".py",
   "mimetype": "text/x-python",
   "name": "python",
   "nbconvert_exporter": "python",
   "pygments_lexer": "ipython3",
   "version": "3.11.7"
  }
 },
 "nbformat": 4,
 "nbformat_minor": 5
}
